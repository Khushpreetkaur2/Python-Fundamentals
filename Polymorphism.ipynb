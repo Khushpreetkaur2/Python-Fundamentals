{
 "cells": [
  {
   "cell_type": "markdown",
   "id": "5a1aca15-86ce-4e47-8416-55e052aac37e",
   "metadata": {},
   "source": [
    "## Polymorphism"
   ]
  },
  {
   "cell_type": "code",
   "execution_count": null,
   "id": "6c3164c5-9a53-4c40-a1ac-2307c103081f",
   "metadata": {},
   "outputs": [],
   "source": []
  },
  {
   "cell_type": "markdown",
   "id": "19ba2bc0-4165-4707-91ff-6b5221b3e886",
   "metadata": {},
   "source": [
    "# Types of Polymorphism"
   ]
  },
  {
   "cell_type": "code",
   "execution_count": null,
   "id": "63ee8ce2-c1ab-4ea4-b184-f4d0c2f77f25",
   "metadata": {},
   "outputs": [],
   "source": []
  },
  {
   "cell_type": "markdown",
   "id": "f51ef6c5-5120-4bb4-b462-a81d4642a12e",
   "metadata": {},
   "source": [
    "# Method overloading"
   ]
  },
  {
   "cell_type": "code",
   "execution_count": 1,
   "id": "02322abf-cc3d-4384-a7c0-da0e78cc2764",
   "metadata": {},
   "outputs": [
    {
     "ename": "NameError",
     "evalue": "name 'Add' is not defined",
     "output_type": "error",
     "traceback": [
      "\u001b[1;31m---------------------------------------------------------------------------\u001b[0m",
      "\u001b[1;31mNameError\u001b[0m                                 Traceback (most recent call last)",
      "Cell \u001b[1;32mIn[1], line 7\u001b[0m\n\u001b[0;32m      5\u001b[0m         \u001b[38;5;28;01mreturn\u001b[39;00m a\u001b[38;5;241m+\u001b[39mb\u001b[38;5;241m+\u001b[39mc\n\u001b[0;32m      6\u001b[0m a\u001b[38;5;241m=\u001b[39mA()\n\u001b[1;32m----> 7\u001b[0m Add(\u001b[38;5;241m10\u001b[39m,\u001b[38;5;241m20\u001b[39m)\n",
      "\u001b[1;31mNameError\u001b[0m: name 'Add' is not defined"
     ]
    }
   ],
   "source": [
    "class A:\n",
    "    def Add(self,a,b):\n",
    "        return a+b\n",
    "    def Add(self,a,b,c):\n",
    "        return a+b+c\n",
    "a=A()\n",
    "Add(10,20)"
   ]
  },
  {
   "cell_type": "code",
   "execution_count": 11,
   "id": "2c7ed23b-d09e-41fc-aa14-2897e33f8dc6",
   "metadata": {},
   "outputs": [
    {
     "data": {
      "text/plain": [
       "10"
      ]
     },
     "execution_count": 11,
     "metadata": {},
     "output_type": "execute_result"
    }
   ],
   "source": [
    "class A:\n",
    "    def Add(self,a,b=0):\n",
    "        return a+b\n",
    "a=A()\n",
    "a.Add(10)"
   ]
  },
  {
   "cell_type": "code",
   "execution_count": 13,
   "id": "bd722071-ac40-4df7-900d-1f79e10989ae",
   "metadata": {},
   "outputs": [
    {
     "data": {
      "text/plain": [
       "30"
      ]
     },
     "execution_count": 13,
     "metadata": {},
     "output_type": "execute_result"
    }
   ],
   "source": [
    "class A:\n",
    "    def Add(self,a,b=0):\n",
    "        return a+b\n",
    "a=A()\n",
    "a.Add(10,20)"
   ]
  },
  {
   "cell_type": "code",
   "execution_count": 15,
   "id": "08af6d51-1c90-416a-b246-33421d7faae4",
   "metadata": {},
   "outputs": [
    {
     "ename": "TypeError",
     "evalue": "A.Add() missing 1 required positional argument: 'c'",
     "output_type": "error",
     "traceback": [
      "\u001b[1;31m---------------------------------------------------------------------------\u001b[0m",
      "\u001b[1;31mTypeError\u001b[0m                                 Traceback (most recent call last)",
      "Cell \u001b[1;32mIn[15], line 7\u001b[0m\n\u001b[0;32m      5\u001b[0m         \u001b[38;5;28;01mreturn\u001b[39;00m a\u001b[38;5;241m+\u001b[39mb\u001b[38;5;241m+\u001b[39mc\n\u001b[0;32m      6\u001b[0m a\u001b[38;5;241m=\u001b[39mA()\n\u001b[1;32m----> 7\u001b[0m a\u001b[38;5;241m.\u001b[39mAdd(\u001b[38;5;241m10\u001b[39m,\u001b[38;5;241m20\u001b[39m)\n",
      "\u001b[1;31mTypeError\u001b[0m: A.Add() missing 1 required positional argument: 'c'"
     ]
    }
   ],
   "source": [
    "class A:\n",
    "    def Add(self,a,b):\n",
    "        return a+b\n",
    "    def Add(self,a,b,c):\n",
    "        return a+b+c\n",
    "a=A()\n",
    "a.Add(10,20)"
   ]
  },
  {
   "cell_type": "code",
   "execution_count": 9,
   "id": "202523eb-e08d-46c5-b43f-68a540142a1d",
   "metadata": {},
   "outputs": [
    {
     "data": {
      "text/plain": [
       "30"
      ]
     },
     "execution_count": 9,
     "metadata": {},
     "output_type": "execute_result"
    }
   ],
   "source": [
    "class A:\n",
    "    def Add(self,a,b):\n",
    "        return a+b\n",
    "    def Add(self,a,b,c=0):\n",
    "        return a+b+c\n",
    "a=A()\n",
    "a.Add(10,20)"
   ]
  },
  {
   "cell_type": "markdown",
   "id": "c3f117a1-0922-439d-a4d4-3865c8f1e588",
   "metadata": {},
   "source": [
    "# Method overriding"
   ]
  },
  {
   "cell_type": "code",
   "execution_count": 6,
   "id": "7bdbb4c3-eb64-4f49-ba5e-a8bc2636cfca",
   "metadata": {},
   "outputs": [
    {
     "name": "stdout",
     "output_type": "stream",
     "text": [
      "9\n",
      "12\n",
      "-8\n"
     ]
    }
   ],
   "source": [
    "class A:\n",
    "    def Add(self,a,b,c):\n",
    "        return a+b+c\n",
    "class B(A):\n",
    "    def Add(self,a,b,c):\n",
    "        return a+b*c\n",
    "class C(A):\n",
    "     def Add(self,a,b,c):\n",
    "        return a-b*c\n",
    "    \n",
    "a=A()\n",
    "b=B()\n",
    "c=C()\n",
    "for i in(a,b,c):\n",
    "    print(i.Add(2,5,2))"
   ]
  },
  {
   "cell_type": "markdown",
   "id": "c468bf45-e5d3-46f1-ba87-fb7954c37dc6",
   "metadata": {},
   "source": [
    "# Duck Duck typing"
   ]
  },
  {
   "cell_type": "code",
   "execution_count": 10,
   "id": "c5a414da-04a3-433f-a80b-4fcfd67c3c13",
   "metadata": {},
   "outputs": [
    {
     "name": "stdout",
     "output_type": "stream",
     "text": [
      "Bird is flying\n",
      "Plane is flying\n"
     ]
    }
   ],
   "source": [
    "class Bird:\n",
    "    def fly(self):\n",
    "        return \"Bird is flying\"\n",
    "class Aeroplane:\n",
    "    def fly(self):\n",
    "        return \"Plane is flying\"\n",
    "def perform_fly(obj):\n",
    "    print(obj.fly())\n",
    "bird=Bird()\n",
    "Plane=Aeroplane()\n",
    "perform_fly(bird)\n",
    "perform_fly(Plane)"
   ]
  },
  {
   "cell_type": "markdown",
   "id": "613c813a-72df-4271-afe5-941d996c7c84",
   "metadata": {},
   "source": [
    "# Operator overloading"
   ]
  },
  {
   "cell_type": "code",
   "execution_count": 22,
   "id": "f0b67d67-e7b5-449a-81fa-ca0305cea541",
   "metadata": {},
   "outputs": [
    {
     "data": {
      "text/plain": [
       "'1020'"
      ]
     },
     "execution_count": 22,
     "metadata": {},
     "output_type": "execute_result"
    }
   ],
   "source": [
    "a=\"10\"\n",
    "b=\"20\"\n",
    "c=a+b\n",
    "c"
   ]
  },
  {
   "cell_type": "code",
   "execution_count": null,
   "id": "8c4ff43f-59b2-4807-bc8a-48545f10de1e",
   "metadata": {},
   "outputs": [],
   "source": []
  }
 ],
 "metadata": {
  "kernelspec": {
   "display_name": "Python 3 (ipykernel)",
   "language": "python",
   "name": "python3"
  },
  "language_info": {
   "codemirror_mode": {
    "name": "ipython",
    "version": 3
   },
   "file_extension": ".py",
   "mimetype": "text/x-python",
   "name": "python",
   "nbconvert_exporter": "python",
   "pygments_lexer": "ipython3",
   "version": "3.12.4"
  }
 },
 "nbformat": 4,
 "nbformat_minor": 5
}
